{
 "cells": [
  {
   "cell_type": "code",
   "execution_count": 1,
   "metadata": {},
   "outputs": [],
   "source": [
    "# Read back\n",
    "import h5py\n",
    "import os\n",
    "\n",
    "WFILE = 'genesis_wavefront_240db43117c44d363f6b57a21a0606ff.h5'\n",
    "\n",
    "with h5py.File(WFILE, 'r') as h5:\n",
    "    \n",
    "    \n",
    "    \n",
    "    E_im = h5['data/000000/meshes/E_imag/x'][:]\n",
    "    E_re = h5['data/000000/meshes/E_real/x'][:]\n",
    "    \n",
    "    root_attrs = dict(h5.attrs)\n",
    "    \n",
    "    E_attrs = dict(h5['data/000000/meshes/E_real'].attrs)"
   ]
  },
  {
   "cell_type": "markdown",
   "metadata": {},
   "source": [
    "# Read openPMD-wavefront"
   ]
  },
  {
   "cell_type": "code",
   "execution_count": 2,
   "metadata": {},
   "outputs": [
    {
     "data": {
      "text/plain": [
       "((251, 251, 498), (251, 251, 498))"
      ]
     },
     "execution_count": 2,
     "metadata": {},
     "output_type": "execute_result"
    }
   ],
   "source": [
    "E_re.shape, E_im.shape"
   ]
  },
  {
   "cell_type": "code",
   "execution_count": 3,
   "metadata": {},
   "outputs": [
    {
     "data": {
      "text/plain": [
       "{'basePath': b'/data/%T/',\n",
       " 'dataType': b'openPMD',\n",
       " 'meshesPath': b'meshes',\n",
       " 'openPMD': b'2.0.0',\n",
       " 'openPMDextension': b'wavefront',\n",
       " 'software': b'lume-genesis',\n",
       " 'softwareVersion': b'0.2.0'}"
      ]
     },
     "execution_count": 3,
     "metadata": {},
     "output_type": "execute_result"
    }
   ],
   "source": [
    "root_attrs"
   ]
  },
  {
   "cell_type": "code",
   "execution_count": 4,
   "metadata": {},
   "outputs": [
    {
     "data": {
      "text/plain": [
       "{'axisLabels': array(['x', 'y', 'z'], dtype=object),\n",
       " 'frequency': 1.9979504031989338e+18,\n",
       " 'frequencyUnitDimension': array([ 0,  0, -1,  0,  0,  0,  0]),\n",
       " 'frequencyUnitSI': 1.0,\n",
       " 'geometry': 'cartesian',\n",
       " 'gridGlobalOffset': array([-1.87500e-02, -1.87500e-02, -7.47249e-07]),\n",
       " 'gridSpacing': array([1.500e-04, 1.500e-04, 3.001e-09]),\n",
       " 'gridUnitDimension': array([[1, 0, 0, 0, 0, 0, 0],\n",
       "        [1, 0, 0, 0, 0, 0, 0],\n",
       "        [1, 0, 0, 0, 0, 0, 0]]),\n",
       " 'gridUnitSI': array([1., 1., 1.]),\n",
       " 'photonEnergy': 8262.85894256583,\n",
       " 'photonEnergyUnitDimension': array([ 2,  1, -2,  0,  0,  0,  0]),\n",
       " 'photonEnergyUnitSI': 1.602176634e-19,\n",
       " 'timeOffset': 0.0,\n",
       " 'unitDimension': array([ 0. ,  0.5, -1.5,  0. ,  0. ,  0. ,  0. ])}"
      ]
     },
     "execution_count": 4,
     "metadata": {},
     "output_type": "execute_result"
    }
   ],
   "source": [
    "E_attrs"
   ]
  },
  {
   "cell_type": "code",
   "execution_count": 5,
   "metadata": {},
   "outputs": [],
   "source": [
    "# Cleanup\n",
    "os.remove(WFILE)"
   ]
  }
 ],
 "metadata": {
  "kernelspec": {
   "display_name": "Python 3",
   "language": "python",
   "name": "python3"
  },
  "language_info": {
   "codemirror_mode": {
    "name": "ipython",
    "version": 3
   },
   "file_extension": ".py",
   "mimetype": "text/x-python",
   "name": "python",
   "nbconvert_exporter": "python",
   "pygments_lexer": "ipython3",
   "version": "3.7.6"
  }
 },
 "nbformat": 4,
 "nbformat_minor": 4
}
