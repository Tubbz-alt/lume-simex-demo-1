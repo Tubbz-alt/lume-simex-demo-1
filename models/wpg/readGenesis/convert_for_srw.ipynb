{
 "cells": [
  {
   "cell_type": "markdown",
   "metadata": {},
   "source": [
    "# Convert Genesis DFL to Wavefront to SRWLWfr\n",
    "\n",
    "This example will show how a DFL file produced by Genesis can be converted to an opemPMD-wavefront by lume-genesis, and then converted to an SRW wavefront object."
   ]
  },
  {
   "cell_type": "markdown",
   "metadata": {},
   "source": [
    "# Get Genesis v2 DFL file and write Wavefront"
   ]
  },
  {
   "cell_type": "code",
   "execution_count": 1,
   "metadata": {},
   "outputs": [],
   "source": [
    "# Get example DFL file\n",
    "# !wget -N https://portal.nersc.gov/cfs/m669/wavefronts/hxr_cut9_5keVTaper4_5.out.dfl"
   ]
  },
  {
   "cell_type": "code",
   "execution_count": 2,
   "metadata": {},
   "outputs": [],
   "source": [
    "from h5py import File\n",
    "from genesis.writers import write_openpmd_wavefront_h5"
   ]
  },
  {
   "cell_type": "code",
   "execution_count": 3,
   "metadata": {},
   "outputs": [],
   "source": [
    "DFL = 'hxr_cut9_5keVTaper4_5.out.dfl'\n",
    "\n",
    "# Genesis parameters. These need to be known to populate the openPMD-wavefront metadata\n",
    "PARAM={'ncar': 251, 'dgrid': 0.00015, 'xlamds': 1.5005e-10, 'zsep': 20, 'ntail':0, 'itdp':1}"
   ]
  },
  {
   "cell_type": "code",
   "execution_count": 4,
   "metadata": {},
   "outputs": [],
   "source": [
    "from genesis.parsers import parse_genesis_dfl"
   ]
  },
  {
   "cell_type": "code",
   "execution_count": 5,
   "metadata": {},
   "outputs": [
    {
     "name": "stdout",
     "output_type": "stream",
     "text": [
      "CPU times: user 98.5 ms, sys: 430 ms, total: 528 ms\n",
      "Wall time: 527 ms\n"
     ]
    }
   ],
   "source": [
    "%%time\n",
    "D2 = parse_genesis_dfl(DFL, nx=PARAM['ncar'])"
   ]
  },
  {
   "cell_type": "code",
   "execution_count": 6,
   "metadata": {},
   "outputs": [
    {
     "data": {
      "text/plain": [
       "3.001e-09"
      ]
     },
     "execution_count": 6,
     "metadata": {},
     "output_type": "execute_result"
    }
   ],
   "source": [
    "PARAM['xlamds']*PARAM['zsep']"
   ]
  },
  {
   "cell_type": "code",
   "execution_count": 7,
   "metadata": {},
   "outputs": [],
   "source": [
    "with File('wavefront.h5', 'w') as h5:\n",
    "    write_openpmd_wavefront_h5(h5, dfl=D2, param=PARAM)"
   ]
  },
  {
   "cell_type": "code",
   "execution_count": 8,
   "metadata": {},
   "outputs": [
    {
     "data": {
      "text/plain": [
       "{'axisLabels': array(['x', 'y', 'z'], dtype=object),\n",
       " 'frequency': 1.9979504031989338e+18,\n",
       " 'frequencyUnitDimension': array([ 0,  0, -1,  0,  0,  0,  0]),\n",
       " 'frequencyUnitSI': 1.0,\n",
       " 'geometry': 'cartesian',\n",
       " 'gridGlobalOffset': array([-1.50000e-04, -1.50000e-04, -7.47249e-07]),\n",
       " 'gridSpacing': array([1.200e-06, 1.200e-06, 3.001e-09]),\n",
       " 'gridUnitDimension': array([[1, 0, 0, 0, 0, 0, 0],\n",
       "        [1, 0, 0, 0, 0, 0, 0],\n",
       "        [1, 0, 0, 0, 0, 0, 0]]),\n",
       " 'gridUnitSI': array([1., 1., 1.]),\n",
       " 'photonEnergy': 8262.858873469322,\n",
       " 'photonEnergyUnitDimension': array([ 2,  1, -2,  0,  0,  0,  0]),\n",
       " 'photonEnergyUnitSI': 1.6021766208e-19,\n",
       " 'timeOffset': 0.0,\n",
       " 'unitDimension': array([ 1,  1, -3, -1,  0,  0,  0])}"
      ]
     },
     "execution_count": 8,
     "metadata": {},
     "output_type": "execute_result"
    }
   ],
   "source": [
    "h5 = File('wavefront.h5', 'r')\n",
    "dict(h5['data']['000000']['meshes']['electricField'].attrs)"
   ]
  },
  {
   "cell_type": "markdown",
   "metadata": {},
   "source": [
    "# Wavefront to SRW"
   ]
  },
  {
   "cell_type": "code",
   "execution_count": 12,
   "metadata": {},
   "outputs": [],
   "source": [
    "from pmd_wavefront.interfaces.srw import srw_wfr_from_openpmd_wavefront"
   ]
  },
  {
   "cell_type": "code",
   "execution_count": 13,
   "metadata": {},
   "outputs": [],
   "source": [
    "with File('wavefront.h5', 'r') as h5:\n",
    "    arEx, arEy, kwargs,  wrf_attrs = srw_wfr_from_openpmd_wavefront(h5['data']['000000']['meshes'],  iz_step=None)"
   ]
  },
  {
   "cell_type": "code",
   "execution_count": 15,
   "metadata": {},
   "outputs": [
    {
     "data": {
      "text/plain": [
       "({'_typeE': 'f',\n",
       "  '_eStart': 0,\n",
       "  '_eFin': 4.975098472957582e-15,\n",
       "  '_ne': 498,\n",
       "  '_xStart': -0.00015,\n",
       "  '_xFin': 0.00015,\n",
       "  '_nx': 251,\n",
       "  '_yStart': -0.00015,\n",
       "  '_yFin': 0.00015,\n",
       "  '_ny': 251,\n",
       "  '_zStart': 0},\n",
       " {'avgPhotEn': 8262.858805393349, 'presFT': 1, 'unitElFld': 2})"
      ]
     },
     "execution_count": 15,
     "metadata": {},
     "output_type": "execute_result"
    }
   ],
   "source": [
    "# kwargs and attributes for the SRWLWfr class\n",
    "kwargs,  wrf_attrs"
   ]
  }
 ],
 "metadata": {
  "kernelspec": {
   "display_name": "Python [conda env:simex-branch]",
   "language": "python",
   "name": "conda-env-simex-branch-py"
  },
  "language_info": {
   "codemirror_mode": {
    "name": "ipython",
    "version": 3
   },
   "file_extension": ".py",
   "mimetype": "text/x-python",
   "name": "python",
   "nbconvert_exporter": "python",
   "pygments_lexer": "ipython3",
   "version": "3.7.6"
  }
 },
 "nbformat": 4,
 "nbformat_minor": 4
}
